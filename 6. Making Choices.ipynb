{
 "cells": [
  {
   "cell_type": "markdown",
   "metadata": {},
   "source": [
    "We discovered something suspicious was going on in our inflammation data by drawing some plots. How can we use Python to automatically recognize the different features we saw, and take a different action for each? In this lesson, we'll learn how to write code that runs only when certain conditions are true."
   ]
  },
  {
   "cell_type": "markdown",
   "metadata": {},
   "source": [
    "## Conditionals"
   ]
  },
  {
   "cell_type": "markdown",
   "metadata": {},
   "source": [
    "We can ask Python to take different actions, depending on a condition, with an `if` statement:"
   ]
  },
  {
   "cell_type": "code",
   "execution_count": 1,
   "metadata": {},
   "outputs": [
    {
     "name": "stdout",
     "output_type": "stream",
     "text": [
      "not greater\n",
      "done\n"
     ]
    }
   ],
   "source": [
    "num = 37\n",
    "\n",
    "if num > 100:\n",
    "    print('greater')\n",
    "else:\n",
    "    print('not greater')\n",
    "\n",
    "print('done')\n"
   ]
  },
  {
   "cell_type": "markdown",
   "metadata": {},
   "source": [
    "Conditional statements don't have to include an `else`. If there isn't one, Python simply does nothing if the test is false:"
   ]
  },
  {
   "cell_type": "code",
   "execution_count": 2,
   "metadata": {},
   "outputs": [
    {
     "name": "stdout",
     "output_type": "stream",
     "text": [
      "before conditional...\n",
      "...after conditional\n"
     ]
    }
   ],
   "source": [
    "num = 53\n",
    "print('before conditional...')\n",
    "\n",
    "if num>100:\n",
    "    print(num, 'is greater than 100')\n",
    "    \n",
    "print('...after conditional')\n",
    "\n"
   ]
  },
  {
   "cell_type": "markdown",
   "metadata": {},
   "source": [
    "we can also chain several tests together using `elif`, which is short for \"else if\". The following Python code uses `elif` to print the sign of a number. "
   ]
  },
  {
   "cell_type": "code",
   "execution_count": 3,
   "metadata": {},
   "outputs": [
    {
     "name": "stdout",
     "output_type": "stream",
     "text": [
      "-3 is negative\n"
     ]
    }
   ],
   "source": [
    "num = -3\n",
    "\n",
    "if num > 0:\n",
    "    print(num, 'is positive')\n",
    "elif num == 0:\n",
    "    print (num, 'is zero')\n",
    "else:\n",
    "    print(num, 'is negative')\n",
    "    \n",
    "    "
   ]
  },
  {
   "cell_type": "markdown",
   "metadata": {},
   "source": [
    "Along with the > and == operators we have already used for comparing values in our conditionals, there are a few more options to know about:\n",
    "\n",
    "- $>$: greater than\n",
    "\n",
    "- $<$: less than\n",
    "\n",
    "- $==$: equal to\n",
    "\n",
    "- $!=$: does not equal\n",
    "\n",
    "- $>=$: greater than or equal to\n",
    "\n",
    "- $<=$: less than or equal to"
   ]
  },
  {
   "cell_type": "markdown",
   "metadata": {},
   "source": [
    "We can also combine tests using `and` and `or.and` is only true if both parts are true:"
   ]
  },
  {
   "cell_type": "code",
   "execution_count": 6,
   "metadata": {},
   "outputs": [
    {
     "name": "stdout",
     "output_type": "stream",
     "text": [
      "at least one part is false\n"
     ]
    }
   ],
   "source": [
    "if (1 > 0) and (-1 >= 0):\n",
    "    print('both parts are true')\n",
    "else:\n",
    "    print('at least one part is false')"
   ]
  },
  {
   "cell_type": "markdown",
   "metadata": {},
   "source": [
    "while `or` is true if at least one part is true:"
   ]
  },
  {
   "cell_type": "code",
   "execution_count": 10,
   "metadata": {},
   "outputs": [
    {
     "name": "stdout",
     "output_type": "stream",
     "text": [
      "at least one test is true\n"
     ]
    }
   ],
   "source": [
    "if (1 < 0) or (1 >=0):\n",
    "    print('at least one test is true')"
   ]
  },
  {
   "cell_type": "markdown",
   "metadata": {},
   "source": [
    "`True` and `False` are special words in Python called `booleans`, which represents truth values. A statement such as `1 < 0` returns the value `False`, while `-1 < 0` returns the value `True`."
   ]
  },
  {
   "cell_type": "markdown",
   "metadata": {},
   "source": [
    "## Checking our Data"
   ]
  },
  {
   "cell_type": "markdown",
   "metadata": {},
   "source": [
    "Now that we've seen how conditionals work, we can use them to check for the suspicious features we saw in our inflammation data."
   ]
  },
  {
   "cell_type": "code",
   "execution_count": 37,
   "metadata": {},
   "outputs": [],
   "source": [
    "import numpy as np\n",
    "\n",
    "data1 = np.loadtxt(fname='data/inflammation-01.csv', delimiter=',')\n",
    "data3 = np.loadtxt(fname='data/inflammation-03.csv', delimiter=',')"
   ]
  },
  {
   "cell_type": "markdown",
   "metadata": {},
   "source": [
    "From the first couple of plots, we saw that maximum daily inflammation exhibits a strange behavior and raises one unit a day. Wouldn't be a good idea to detect such behavior and report it as suspicious? Let's do that! However, instead of checking every single day of the study, let's merely check if maximum inflammation in the beginning (day 0) and in the middle (day 20) of the study are equal to the corresponding day numbers."
   ]
  },
  {
   "cell_type": "code",
   "execution_count": 38,
   "metadata": {},
   "outputs": [
    {
     "name": "stdout",
     "output_type": "stream",
     "text": [
      "Suspicious looking maxima\n"
     ]
    }
   ],
   "source": [
    "max_inflammation_0 = np.amax(data1, axis=0)[0]\n",
    "max_inflammation_20 = np.amax(data1, axis=0)[20]\n",
    "\n",
    "if max_inflammation_0 == 0 and max_inflammation_20 == 20:\n",
    "    print('Suspicious looking maxima')\n"
   ]
  },
  {
   "cell_type": "markdown",
   "metadata": {},
   "source": [
    "We also saw a different problem in the third dataset; the minima per day were all zero (looks like a healthy person snuck into our study). We can also check for this with an `elif` condition:"
   ]
  },
  {
   "cell_type": "code",
   "execution_count": 41,
   "metadata": {},
   "outputs": [
    {
     "name": "stdout",
     "output_type": "stream",
     "text": [
      "Suspicious looking maxima\n"
     ]
    }
   ],
   "source": [
    "max_inflammation_0 = np.amax(data1, axis=0)[0]\n",
    "max_inflammation_20 = np.amax(data1, axis=0)[20]\n",
    "min_inflammation = np.amin(data1, axis=0)\n",
    "\n",
    "if max_inflammation_0 == 0 and max_inflammation_20 == 20:\n",
    "    print('Suspicious looking maxima')\n",
    "elif np.sum(min_inflammation) == 0:\n",
    "    print('Minima add up to zero')"
   ]
  },
  {
   "cell_type": "markdown",
   "metadata": {},
   "source": [
    "And if neither of conditions are true, we can use `else` to give the all-clear:"
   ]
  },
  {
   "cell_type": "code",
   "execution_count": 43,
   "metadata": {},
   "outputs": [
    {
     "name": "stdout",
     "output_type": "stream",
     "text": [
      "Suspicious looking maxima\n"
     ]
    }
   ],
   "source": [
    "max_inflammation_0 = np.amax(data1, axis=0)[0]\n",
    "max_inflammation_20 = np.amax(data1, axis=0)[20]\n",
    "min_inflammation = np.amin(data1, axis=0)\n",
    "\n",
    "if max_inflammation_0 == 0 and max_inflammation_20 == 20:\n",
    "    print('Suspicious looking maxima')\n",
    "elif np.sum(min_inflammation) == 0:\n",
    "    print('Minima add up to zero')\n",
    "else:\n",
    "    print('Seems OK!')"
   ]
  },
  {
   "cell_type": "markdown",
   "metadata": {},
   "source": [
    "## Ex 1: Close Enough"
   ]
  },
  {
   "cell_type": "markdown",
   "metadata": {},
   "source": [
    "Write some conditions that print `True` if the variable `a` is within $10\\%$ of the variable `b` and `False` otherwise."
   ]
  },
  {
   "cell_type": "code",
   "execution_count": 66,
   "metadata": {},
   "outputs": [
    {
     "name": "stdout",
     "output_type": "stream",
     "text": [
      "True\n"
     ]
    }
   ],
   "source": [
    "a = 9\n",
    "b = 100\n",
    "\n",
    "if abs(a) <= 0.1*abs(b):\n",
    "    print ('True')\n",
    "else:\n",
    "    print(False)"
   ]
  },
  {
   "cell_type": "markdown",
   "metadata": {},
   "source": [
    "## Ex 2: In-place operators"
   ]
  },
  {
   "cell_type": "markdown",
   "metadata": {},
   "source": [
    "Python (and most other languages in the C family) provides in-place operators that work like this:"
   ]
  },
  {
   "cell_type": "code",
   "execution_count": 67,
   "metadata": {},
   "outputs": [
    {
     "name": "stdout",
     "output_type": "stream",
     "text": [
      "6\n"
     ]
    }
   ],
   "source": [
    "x =  1 #original values\n",
    "x += 1 # add one to x, assigning result back to x\n",
    "x *= 3 # multiply x by 3\n",
    "\n",
    "print(x)"
   ]
  },
  {
   "cell_type": "markdown",
   "metadata": {},
   "source": [
    "Write some code that sums the positive and negative numbers in a list separately, using in-place operators."
   ]
  },
  {
   "cell_type": "code",
   "execution_count": 80,
   "metadata": {},
   "outputs": [
    {
     "name": "stdout",
     "output_type": "stream",
     "text": [
      "Negative sum is: -16 ; Positive sum is: 22\n"
     ]
    }
   ],
   "source": [
    "negative_sum = 0\n",
    "positive_sum = 0\n",
    "list = [2, 4, 7, -1, -8, -4, 0, -3, 5, 0, 4]\n",
    "\n",
    "for i in list:\n",
    "    if i > 0:\n",
    "        positive_sum+=i\n",
    "    elif i == 0:\n",
    "        pass\n",
    "    else:\n",
    "        negative_sum+=i\n",
    "\n",
    "print('Negative sum is:', negative_sum, '; ' 'Positive sum is:', positive_sum)\n",
    "    "
   ]
  },
  {
   "cell_type": "markdown",
   "metadata": {},
   "source": [
    "## Sorting a list into buckets"
   ]
  },
  {
   "cell_type": "markdown",
   "metadata": {},
   "source": [
    "In our `data` folder, large data sets are stored in files whose names start with \"inflammation-\" and small data sets - in files whose names start with \"small-\". We'd like to break all these files into three lists called `large_files`, `small_files`, and `other_files`.\n",
    "\n",
    "Add code to the template below to do this. The string method `startswith` return `True` if and only if the string it is called on starts passed as an argument, that is:"
   ]
  },
  {
   "cell_type": "code",
   "execution_count": 102,
   "metadata": {},
   "outputs": [
    {
     "data": {
      "text/plain": [
       "True"
      ]
     },
     "execution_count": 102,
     "metadata": {},
     "output_type": "execute_result"
    }
   ],
   "source": [
    "'String'.startswith('S')"
   ]
  },
  {
   "cell_type": "markdown",
   "metadata": {},
   "source": [
    "Use the following Python code as your starting point:"
   ]
  },
  {
   "cell_type": "code",
   "execution_count": 98,
   "metadata": {},
   "outputs": [],
   "source": [
    "filenames = ['inflammation-01.csv', \n",
    "            'myscript.py',\n",
    "            'inflammation-02.csv'\n",
    "            'small-01.csv',\n",
    "            'small-02.csv']\n",
    "\n",
    "large_files = []\n",
    "small_files = []\n",
    "other_files = []\n"
   ]
  },
  {
   "cell_type": "markdown",
   "metadata": {},
   "source": [
    "Your solution should:\n",
    "\n",
    "1. loop over the names of the files\n",
    "2. figure out which group each filename to that list\n",
    "3. append the filename to that list\n",
    "\n",
    "In the end the three lists should be:\n",
    "\n",
    "```python\n",
    "    \n",
    "    large_files = ['inflammation-01.csv', 'inflammation-02.csv']\n",
    "    small_files = ['small-01.csv', 'small-02.csv']\n",
    "    other_files = ['myscript.py']\n",
    "```"
   ]
  },
  {
   "cell_type": "code",
   "execution_count": 113,
   "metadata": {},
   "outputs": [
    {
     "name": "stdout",
     "output_type": "stream",
     "text": [
      "large_files =  ['inflammation-01.csv', 'inflammation-02.csv']\n",
      "small_files =  ['small-01.csv', 'small-02.csv']\n",
      "other_files =  ['myscript.py']\n"
     ]
    }
   ],
   "source": [
    "#ANSWER\n",
    "\n",
    "filenames = ['inflammation-01.csv', \n",
    "            'myscript.py',\n",
    "            'inflammation-02.csv',\n",
    "            'small-01.csv',\n",
    "            'small-02.csv']\n",
    "\n",
    "large_files = []\n",
    "small_files = []\n",
    "other_files = []\n",
    "\n",
    "\n",
    "for file in filenames:\n",
    "    if file.startswith('inflammation-'):\n",
    "        large_files.append(file)\n",
    "    elif file.startswith('small'):\n",
    "        small_files.append(file)\n",
    "    else:\n",
    "        other_files.append(file)\n",
    "        \n",
    "print('large_files = ', large_files)\n",
    "print('small_files = ', small_files)\n",
    "print('other_files = ', other_files)\n",
    " "
   ]
  },
  {
   "cell_type": "code",
   "execution_count": 119,
   "metadata": {},
   "outputs": [
    {
     "name": "stdout",
     "output_type": "stream",
     "text": [
      "-16\n"
     ]
    }
   ],
   "source": [
    "vowels = 'aeiouAEIOU'\n",
    "sentence = 'Eu amo muito a Nathalia Capellini'\n",
    "count = 0\n",
    "for i in sentence:\n",
    "    if i in vowels:\n",
    "        count+=1\n",
    "        \n",
    "print(count)  "
   ]
  },
  {
   "cell_type": "code",
   "execution_count": null,
   "metadata": {},
   "outputs": [],
   "source": []
  }
 ],
 "metadata": {
  "kernelspec": {
   "display_name": "base",
   "language": "python",
   "name": "python3"
  },
  "language_info": {
   "codemirror_mode": {
    "name": "ipython",
    "version": 3
   },
   "file_extension": ".py",
   "mimetype": "text/x-python",
   "name": "python",
   "nbconvert_exporter": "python",
   "pygments_lexer": "ipython3",
   "version": "3.12.4"
  }
 },
 "nbformat": 4,
 "nbformat_minor": 2
}
